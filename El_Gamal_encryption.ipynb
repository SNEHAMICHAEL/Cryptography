{
  "nbformat": 4,
  "nbformat_minor": 0,
  "metadata": {
    "colab": {
      "provenance": []
    },
    "kernelspec": {
      "name": "python3",
      "display_name": "Python 3"
    },
    "language_info": {
      "name": "python"
    }
  },
  "cells": [
    {
      "cell_type": "code",
      "execution_count": 11,
      "metadata": {
        "colab": {
          "base_uri": "https://localhost:8080/"
        },
        "id": "HfWbugkgXOWg",
        "outputId": "0284a4d2-b2ef-4d90-f26b-adaaf75a7548"
      },
      "outputs": [
        {
          "output_type": "stream",
          "name": "stdout",
          "text": [
            "Public key (p, g, y): 13,2,4\n",
            "Private key (x): 2\n",
            "Message: 5\n",
            "Bob sends (3, 6) to Alice\n",
            "Plaintext: 5\n"
          ]
        }
      ],
      "source": [
        "# Implement and understand the El Gamal encryption scheme using Python\n",
        "\n",
        "import random\n",
        "\n",
        "def is_prime(n):\n",
        "    if n <= 1:\n",
        "        return False\n",
        "    if n <= 3:\n",
        "        return True\n",
        "    if n % 2 == 0 or n % 3 == 0:\n",
        "        return False\n",
        "    i = 5\n",
        "    while i * i <= n:\n",
        "        if n % i == 0 or n % (i + 2) == 0:\n",
        "            return False\n",
        "        i += 6\n",
        "    return True\n",
        "\n",
        "def primitive_root(p):\n",
        "    primitive_roots = []\n",
        "    for g in range(2, p):\n",
        "        residues = set(pow(g, i, p) for i in range(1, p))\n",
        "        if len(residues) == p - 1:\n",
        "            primitive_roots.append(g)\n",
        "    return primitive_roots\n",
        "\n",
        "def mod_exp(base, exp, mod):\n",
        "    result = 1\n",
        "    while exp > 0:\n",
        "        if exp % 2 == 1:\n",
        "            result = (result * base) % mod\n",
        "        base = (base * base) % mod\n",
        "        exp //= 2\n",
        "    return result\n",
        "\n",
        "def generate_private_key(p):\n",
        "    return random.randint(2, p-2)\n",
        "\n",
        "def generate_public_key(g, x, p):\n",
        "    return mod_exp(g, x, p)\n",
        "\n",
        "def encrypt(message, y, k, p, g):\n",
        "    a = mod_exp(g, k, p)\n",
        "    c = (message * mod_exp(y, k, p)) % p\n",
        "    return a, c\n",
        "\n",
        "def decrypt(ciphertext, x, p):\n",
        "    a, c = ciphertext\n",
        "    s = mod_exp(a, x, p)\n",
        "    s_inv = mod_exp(s, p-2, p)\n",
        "    decrypted_message = (c * s_inv) % p\n",
        "    return decrypted_message\n",
        "\n",
        "p = 13\n",
        "\n",
        "if not is_prime(p):\n",
        "    print(\"p is not prime.\")\n",
        "    exit()\n",
        "\n",
        "g = primitive_root(p)[0]\n",
        "x = generate_private_key(p)\n",
        "y = generate_public_key(g, x, p)\n",
        "\n",
        "print(\"Public key (p, g, y):\", str(p) + \",\" + str(g) + \",\" + str(y))\n",
        "print(\"Private key (x):\", x)\n",
        "\n",
        "message = 5\n",
        "print(\"Message:\", message)\n",
        "\n",
        "k = random.randint(2, p-2)\n",
        "a, c = encrypt(message, y, k, p, g)\n",
        "print(\"Bob sends (\" + str(a) + \", \" + str(c) + \") to Alice\")\n",
        "\n",
        "decrypted_message = decrypt((a, c), x, p)\n",
        "print(\"Plaintext:\", decrypted_message)"
      ]
    }
  ]
}