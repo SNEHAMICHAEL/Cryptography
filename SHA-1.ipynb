{
  "nbformat": 4,
  "nbformat_minor": 0,
  "metadata": {
    "colab": {
      "provenance": []
    },
    "kernelspec": {
      "name": "python3",
      "display_name": "Python 3"
    },
    "language_info": {
      "name": "python"
    }
  },
  "cells": [
    {
      "cell_type": "code",
      "source": [
        "# To implement the SHA-1 cryptographic hash function\n",
        "\n",
        "def toBinary(message):\n",
        "    binary = ''.join(format(ord(char), '08b') for char in message)\n",
        "    return binary\n",
        "\n",
        "def padding(binary):\n",
        "    original_len = len(binary)\n",
        "    binary += '1'\n",
        "    while len(binary) % 512 != 448:\n",
        "        binary += '0'\n",
        "    binary += format(original_len, '064b')\n",
        "    return binary\n",
        "\n",
        "def blocks(binary, block_size):\n",
        "    return [binary[i:i + block_size] for i in range(0, len(binary), block_size)]\n",
        "\n",
        "def split_into_words(block, word_size):\n",
        "    return [int(block[i:i + word_size], 2) for i in range(0, len(block), word_size)]\n",
        "\n",
        "def left_rotate(n, b):\n",
        "    return ((n << b) | (n >> (32 - b))) & 0xffffffff\n",
        "\n",
        "def sha1(message):\n",
        "    h0 = 0x67452301\n",
        "    h1 = 0xEFCDAB89\n",
        "    h2 = 0x98BADCFE\n",
        "    h3 = 0x10325476\n",
        "    h4 = 0xC3D2E1F0\n",
        "\n",
        "    binary_message = toBinary(message)\n",
        "    padded_message = padding(binary_message)\n",
        "\n",
        "    for block in blocks(padded_message, 512):\n",
        "        words = split_into_words(block, 32)\n",
        "\n",
        "        for i in range(16, 80):\n",
        "            word = words[i-3] ^ words[i-8] ^ words[i-14] ^ words[i-16]\n",
        "            words.append(left_rotate(word, 1))\n",
        "\n",
        "        a = h0\n",
        "        b = h1\n",
        "        c = h2\n",
        "        d = h3\n",
        "        e = h4\n",
        "\n",
        "        for i in range(80):\n",
        "            if 0 <= i <= 19:\n",
        "                f = (b & c) | ((~b) & d)\n",
        "                k = 0x5A827999\n",
        "            elif 20 <= i <= 39:\n",
        "                f = b ^ c ^ d\n",
        "                k = 0x6ED9EBA1\n",
        "            elif 40 <= i <= 59:\n",
        "                f = (b & c) | (b & d) | (c & d)\n",
        "                k = 0x8F1BBCDC\n",
        "            elif 60 <= i <= 79:\n",
        "                f = b ^ c ^ d\n",
        "                k = 0xCA62C1D6\n",
        "\n",
        "            temp = (left_rotate(a, 5) + f + e + k + words[i]) & 0xffffffff\n",
        "            e = d\n",
        "            d = c\n",
        "            c = left_rotate(b, 30)\n",
        "            b = a\n",
        "            a = temp\n",
        "\n",
        "        h0 = (h0 + a) & 0xffffffff\n",
        "        h1 = (h1 + b) & 0xffffffff\n",
        "        h2 = (h2 + c) & 0xffffffff\n",
        "        h3 = (h3 + d) & 0xffffffff\n",
        "        h4 = (h4 + e) & 0xffffffff\n",
        "\n",
        "        print(\"h0 = %08x\" % h0)\n",
        "        print(\"h1 = %08x\" % h1)\n",
        "        print(\"h2 = %08x\" % h2)\n",
        "        print(\"h3 = %08x\" % h3)\n",
        "        print(\"h4 = %08x\" % h4)\n",
        "\n",
        "    hash_value = '%08x%08x%08x%08x%08x' % (h0, h1, h2, h3, h4)\n",
        "    return hash_value\n",
        "\n",
        "word = input(\"Enter a word: \")\n",
        "print(\"Original binary:\", toBinary(word))\n",
        "\n",
        "hash_result = sha1(word)\n",
        "print(\"Hash value:\", hash_result)"
      ],
      "metadata": {
        "colab": {
          "base_uri": "https://localhost:8080/"
        },
        "id": "9imUlFwi7Fup",
        "outputId": "0938399e-41b3-40f3-e4b3-5f80a9ec4c9d"
      },
      "execution_count": 3,
      "outputs": [
        {
          "output_type": "stream",
          "name": "stdout",
          "text": [
            "Enter a word: cryptography\n",
            "Original binary: 011000110111001001111001011100000111010001101111011001110111001001100001011100000110100001111001\n",
            "h0 = 48c910b6\n",
            "h1 = 614c4a0a\n",
            "h2 = a5851aa7\n",
            "h3 = 8571dd1e\n",
            "h4 = 3c3a66ba\n",
            "Hash value: 48c910b6614c4a0aa5851aa78571dd1e3c3a66ba\n"
          ]
        }
      ]
    }
  ]
}