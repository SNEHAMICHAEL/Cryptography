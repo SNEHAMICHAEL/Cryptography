{
  "nbformat": 4,
  "nbformat_minor": 0,
  "metadata": {
    "colab": {
      "provenance": []
    },
    "kernelspec": {
      "name": "python3",
      "display_name": "Python 3"
    },
    "language_info": {
      "name": "python"
    }
  },
  "cells": [
    {
      "cell_type": "code",
      "execution_count": 1,
      "metadata": {
        "colab": {
          "base_uri": "https://localhost:8080/"
        },
        "id": "Qiwi5oUwSMLp",
        "outputId": "4f55089f-c42e-4baa-ca9b-65942a9744d4"
      },
      "outputs": [
        {
          "output_type": "stream",
          "name": "stdout",
          "text": [
            "Enter a number:12\n",
            "Phi( 12 )= 4\n"
          ]
        }
      ],
      "source": [
        "# Python function to find the number of invertible elements which are less than let's say n, and relatively prime to n  using Euler’s Totient function\n",
        "\n",
        "def prime(num):\n",
        "    if num<2:\n",
        "        return False\n",
        "    for i in range(2, int(num**0.5) + 1):\n",
        "        if num%i==0:\n",
        "            return False\n",
        "    return True\n",
        "\n",
        "def totient(n):\n",
        "    if prime(n):\n",
        "        return n-1\n",
        "    factors=[]\n",
        "    t=n\n",
        "    for i in range(2,int(n**0.5)+1):\n",
        "        while t%i==0:\n",
        "            factors.append(i)\n",
        "            t//=i\n",
        "    if t>1:\n",
        "        factors.append(t)\n",
        "    if len(factors) == 2:\n",
        "        p, q = factors\n",
        "        return (p - 1)*(q - 1)\n",
        "    totient = n\n",
        "    for prime_factor in set(factors):\n",
        "        totient *= (1 - 1 / prime_factor)\n",
        "    return int(totient)\n",
        "\n",
        "\n",
        "n=int(input('Enter a number:'))\n",
        "result = totient(n)\n",
        "print(\"Phi(\",n,\")=\",result)"
      ]
    }
  ]
}