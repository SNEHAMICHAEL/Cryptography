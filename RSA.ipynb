{
  "cells": [
    {
      "cell_type": "code",
      "execution_count": 15,
      "metadata": {
        "colab": {
          "base_uri": "https://localhost:8080/"
        },
        "id": "AzMQkfWMXTX8",
        "outputId": "342c3873-31dd-4bf1-e71c-2011a71063ab"
      },
      "outputs": [
        {
          "name": "stdout",
          "output_type": "stream",
          "text": [
            "Enter p: 17\n",
            "Enter q: 13\n",
            "Enter a message: duk\n",
            "Public Key: (5, 221)\n",
            "Cipher text: 01001101000010110001010101111111\n",
            "Private Key: (77, 221)\n",
            "Plain text: duk\n"
          ]
        }
      ],
      "source": [
        "# Python program to implement RSA for 'textual' data encryption and decryption\n",
        "\n",
        "from math import gcd\n",
        "\n",
        "def generate_keys(p: int, q: int):\n",
        "    n = p * q\n",
        "    t = (p - 1) * (q - 1)\n",
        "    for i in range(2, t):\n",
        "        if gcd(i, t) == 1:\n",
        "            e = i\n",
        "            break\n",
        "    j = 0\n",
        "    while True:\n",
        "        if (j * e) % t == 1:\n",
        "            d = j\n",
        "            break\n",
        "        j += 1\n",
        "    public_key = (e, n)\n",
        "    private_key = (d, n)\n",
        "    return public_key, private_key\n",
        "\n",
        "def encryption(block, e, n):\n",
        "    block_int = int(block, 2)\n",
        "    encrypted_block_int = pow(block_int, e, n)\n",
        "    return format(encrypted_block_int, '0{}b'.format(n.bit_length()))\n",
        "\n",
        "\n",
        "def decryption(block, d, n):\n",
        "    block_int = int(block, 2)\n",
        "    decrypted_block_int = pow(block_int, d, n)\n",
        "    return format(decrypted_block_int, '0{}b'.format(n.bit_length() - 2))\n",
        "\n",
        "\n",
        "def text_to_binary(text):\n",
        "    return ''.join(format(ord(char), '08b') for char in text)\n",
        "\n",
        "def binary_to_text(binary):\n",
        "    text = ''.join(chr(int(binary[i:i+8], 2)) for i in range(0, len(binary), 8))\n",
        "    return text\n",
        "\n",
        "def ciphertext(text, e, n):\n",
        "    binary_string = text_to_binary(text)\n",
        "    n_bits = n.bit_length()\n",
        "    block_size = n_bits - 2\n",
        "    encrypted_blocks = []\n",
        "\n",
        "    padding_length = (block_size - len(binary_string) % block_size) % block_size\n",
        "    binary_string = binary_string + '0' * padding_length\n",
        "\n",
        "    for i in range(0, len(binary_string), block_size):\n",
        "        block = binary_string[i:i+block_size]\n",
        "        encrypted_blocks.append(encryption(block, e, n))\n",
        "\n",
        "    return ''.join(encrypted_blocks), padding_length\n",
        "\n",
        "def plaintext(encrypted_binary, d, n, padding_length):\n",
        "    n_bits = n.bit_length()\n",
        "    block_size = n_bits\n",
        "    decrypted_binary = ''\n",
        "\n",
        "    for i in range(0, len(encrypted_binary), block_size):\n",
        "        block = encrypted_binary[i:i+block_size]\n",
        "        decrypted_binary += decryption(block, d, n)\n",
        "\n",
        "    if padding_length > 0:\n",
        "        decrypted_binary = decrypted_binary[:-padding_length]\n",
        "\n",
        "    return binary_to_text(decrypted_binary)\n",
        "\n",
        "p = int(input('Enter p: '))\n",
        "q = int(input('Enter q: '))\n",
        "m = input('Enter a message: ')\n",
        "public_key, private_key = generate_keys(p, q)\n",
        "\n",
        "print(\"Public Key:\", public_key)\n",
        "ciphertext, padding_length = ciphertext(m, e, n)\n",
        "print(\"Cipher text:\", ciphertext)\n",
        "\n",
        "print(\"Private Key:\", private_key)\n",
        "plaintext = plaintext(ciphertext, d, n, padding_length)\n",
        "print(\"Plain text:\", plaintext)"
      ]
    }
  ],
  "metadata": {
    "colab": {
      "provenance": []
    },
    "kernelspec": {
      "display_name": "Python 3",
      "name": "python3"
    },
    "language_info": {
      "name": "python"
    }
  },
  "nbformat": 4,
  "nbformat_minor": 0
}
