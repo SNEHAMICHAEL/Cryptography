{
 "cells": [
  {
   "cell_type": "code",
   "execution_count": 6,
   "id": "79fd2399-32ff-4304-8aed-92b653078e47",
   "metadata": {},
   "outputs": [
    {
     "name": "stdout",
     "output_type": "stream",
     "text": [
      "Enter a word:  AT\n"
     ]
    },
    {
     "name": "stdout",
     "output_type": "stream",
     "text": [
      "Original binary: 0100000101010100\n",
      "Blocks: 010, 000, 010, 101, 010, 010\n"
     ]
    },
    {
     "name": "stdout",
     "output_type": "stream",
     "text": [
      "Enter the choice:\n",
      "1)ECB Encryption and Decryption\n",
      "2)CBC Encryption and Decryption\n",
      "3)Quit\n",
      " 1\n"
     ]
    },
    {
     "name": "stdout",
     "output_type": "stream",
     "text": [
      "ECB Cipher text: 100,001,100,110,100,100\n",
      "ECB Plain text: 010,000,010,101,010,010\n"
     ]
    },
    {
     "name": "stdout",
     "output_type": "stream",
     "text": [
      "Enter the choice:\n",
      "1)ECB Encryption and Decryption\n",
      "2)CBC Encryption and Decryption\n",
      "3)Quit\n",
      " 2\n"
     ]
    },
    {
     "name": "stdout",
     "output_type": "stream",
     "text": [
      "CBC Cipher text: 000,000,010,111,101,111\n",
      "CBC Plain text: 010,000,010,101,010,010\n"
     ]
    },
    {
     "name": "stdout",
     "output_type": "stream",
     "text": [
      "Enter the choice:\n",
      "1)ECB Encryption and Decryption\n",
      "2)CBC Encryption and Decryption\n",
      "3)Quit\n",
      " 3\n"
     ]
    }
   ],
   "source": [
    "# Python program to encrypt/decrypt byte-string data using 3-bit block cipher with ECB-mode and XOR with CBC-mode\n",
    "\n",
    "def toBinary(word):\n",
    "    binary_no = ''.join(format(ord(char), '08b') for char in word)\n",
    "    return binary_no\n",
    "\n",
    "def blocks(binary, block_size):\n",
    "    while len(binary) % block_size != 0:\n",
    "        binary += '10'\n",
    "    return [binary[i:i + block_size] for i in range(0, len(binary), block_size)]\n",
    "\n",
    "def ecb_encryption(blocks, encryption_table):\n",
    "    encrypted_blocks = []\n",
    "    for block in blocks:\n",
    "        encrypted_block = encryption_table.get(block)\n",
    "        encrypted_blocks.append(encrypted_block)\n",
    "    return \",\".join(encrypted_blocks)\n",
    "\n",
    "def ecb_decryption(encrypted_blocks, decryption_table):\n",
    "    decrypted_blocks = []\n",
    "    for block in encrypted_blocks:\n",
    "        decrypted_block = decryption_table.get(block)\n",
    "        decrypted_blocks.append(decrypted_block)\n",
    "    return \",\".join(decrypted_blocks)\n",
    "\n",
    "def cbc_encryption(blocks, iv):\n",
    "    encrypted_blocks = []\n",
    "    prev_cipher = iv\n",
    "    for block in blocks:\n",
    "        cipher = ''\n",
    "        for i in range(len(block)):\n",
    "            cipher += str(int(block[i]) ^ int(prev_cipher[i]))\n",
    "        encrypted_blocks.append(cipher)\n",
    "        prev_cipher = cipher\n",
    "    return \",\".join(encrypted_blocks)\n",
    "\n",
    "def cbc_decryption(encrypted_blocks, iv):\n",
    "    decrypted_blocks = []\n",
    "    prev_cipher = iv\n",
    "    for block in encrypted_blocks:\n",
    "        plain = ''\n",
    "        for i in range(len(block)):\n",
    "            plain += str(int(block[i]) ^ int(prev_cipher[i]))\n",
    "        decrypted_blocks.append(plain)\n",
    "        prev_cipher = block\n",
    "    return \",\".join(decrypted_blocks)\n",
    "\n",
    "word = input(\"Enter a word: \")\n",
    "print(\"Original binary:\", toBinary(word))\n",
    "binary_word = toBinary(word)\n",
    "block_size = 3\n",
    "blocks_list = blocks(binary_word, block_size)\n",
    "print(\"Blocks:\", \", \".join(blocks_list))\n",
    "\n",
    "while True:\n",
    "    menu = int(input(\"Enter the choice:\\n1)ECB Encryption and Decryption\\n2)CBC Encryption and Decryption\\n3)Quit\\n\"))\n",
    "    if menu == 1:\n",
    "        encryption_table = {\"000\": \"001\", \"001\": \"101\", \"010\": \"100\", \"011\": \"010\", \"100\": \"011\", \"101\": \"110\", \"110\": \"111\", \"111\": \"000\"}\n",
    "        cipher_text = ecb_encryption(blocks_list, encryption_table)\n",
    "        print(\"ECB Cipher text:\", cipher_text)\n",
    "        decryption_table = {\"001\": \"000\", \"101\": \"001\", \"100\": \"010\", \"010\": \"011\", \"011\": \"100\", \"110\": \"101\", \"111\": \"110\", \"000\": \"111\"}\n",
    "        plain_text = ecb_decryption(cipher_text.split(','), decryption_table)\n",
    "        print(\"ECB Plain text:\", plain_text)\n",
    "\n",
    "    elif menu == 2:\n",
    "        iv ='010'\n",
    "        cbc_cipher_text = cbc_encryption(blocks_list, iv)\n",
    "        print(\"CBC Cipher text:\", cbc_cipher_text)\n",
    "        iv = '010'\n",
    "        cbc_plain_text = cbc_decryption(cbc_cipher_text.split(','), iv)\n",
    "        print(\"CBC Plain text:\", cbc_plain_text)\n",
    "\n",
    "    elif menu == 3:\n",
    "        break\n"
   ]
  },
  {
   "cell_type": "code",
   "execution_count": null,
   "id": "0fd3f667-af79-4a3c-bea6-ca45a1766f50",
   "metadata": {},
   "outputs": [],
   "source": []
  }
 ],
 "metadata": {
  "kernelspec": {
   "display_name": "Python 3 (ipykernel)",
   "language": "python",
   "name": "python3"
  },
  "language_info": {
   "codemirror_mode": {
    "name": "ipython",
    "version": 3
   },
   "file_extension": ".py",
   "mimetype": "text/x-python",
   "name": "python",
   "nbconvert_exporter": "python",
   "pygments_lexer": "ipython3",
   "version": "3.11.7"
  }
 },
 "nbformat": 4,
 "nbformat_minor": 5
}
