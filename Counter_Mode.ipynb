{
  "cells": [
    {
      "cell_type": "code",
      "execution_count": 1,
      "metadata": {
        "colab": {
          "base_uri": "https://localhost:8080/"
        },
        "id": "9BDI1cFkZw8E",
        "outputId": "62d329e7-9c07-42a9-f238-3a5f537f7591"
      },
      "outputs": [
        {
          "name": "stdout",
          "output_type": "stream",
          "text": [
            "Enter the plaintext: 100110101001\n",
            "Blocks: 1001, 1010, 1001\n",
            "Ciphertext: 0011,1011,1011\n",
            "Plaintext: 1001, 1010, 1001\n"
          ]
        }
      ],
      "source": [
        "# Counter Mode\n",
        "\n",
        "def blocks(binary, block_size):\n",
        "    return [binary[i:i + block_size] for i in range(0, len(binary), block_size)]\n",
        "\n",
        "def apply_permutation_key(encrypted_block, key):\n",
        "    return ''.join(encrypted_block[i - 1] for i in key)\n",
        "\n",
        "def encryption(blocks, r, key):\n",
        "    encrypted_blocks = []\n",
        "    for block in blocks:\n",
        "        cipher = ''\n",
        "        for i in range(len(block)):\n",
        "            cipher += str(int(block[i]) ^ int(r[i]))\n",
        "        encrypted_blocks.append(apply_permutation_key(cipher, key))\n",
        "        r = bin(int(r, 2) + 1)[2:].zfill(len(r))\n",
        "    return \",\".join(encrypted_blocks)\n",
        "\n",
        "def decryption(encrypted_blocks, r, key):\n",
        "    decrypted_blocks = []\n",
        "    for block in encrypted_blocks:\n",
        "        permuted_block = apply_permutation_key(block, key)\n",
        "        plaintext_block = ''\n",
        "        for i in range(len(permuted_block)):\n",
        "            plaintext_block += str(int(permuted_block[i]) ^ int(r[i]))\n",
        "        decrypted_blocks.append(plaintext_block)\n",
        "        r = bin(int(r, 2) + 1)[2:].zfill(len(r))\n",
        "    return decrypted_blocks\n",
        "\n",
        "plaintext = input(\"Enter the plaintext: \")\n",
        "block_size = 4\n",
        "blocks_list = blocks(plaintext, block_size)\n",
        "print(\"Blocks:\", \", \".join(blocks_list))\n",
        "\n",
        "r = \"0000\"\n",
        "key = (3, 2, 1, 4)\n",
        "ciphertext = encryption(blocks_list, r, key)\n",
        "print(\"Ciphertext:\", ciphertext)\n",
        "\n",
        "ciphertext_blocks = ciphertext.split(',')\n",
        "plaintext_blocks = decryption(ciphertext_blocks, r, key)\n",
        "print(\"Plaintext:\", \", \".join(plaintext_blocks))"
      ]
    }
  ],
  "metadata": {
    "colab": {
      "provenance": []
    },
    "kernelspec": {
      "display_name": "Python 3",
      "name": "python3"
    },
    "language_info": {
      "name": "python"
    }
  },
  "nbformat": 4,
  "nbformat_minor": 0
}
