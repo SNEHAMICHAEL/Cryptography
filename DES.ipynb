{
 "cells": [
  {
   "cell_type": "code",
   "execution_count": null,
   "metadata": {},
   "outputs": [],
   "source": [
    "# Python program to implement DES\n",
    "\n",
    "from Crypto.Cipher import DES\n",
    "from secrets import token_bytes\n",
    "\n",
    "key = token_bytes(8)\n",
    "\n",
    "def encrypt(msg):\n",
    "    cipher = DES.new(key, DES.MODE_EAX)\n",
    "    nonce = cipher.nonce\n",
    "    ciphertext, tag = cipher.encrypt_and_digest(msg.encode('ascii'))\n",
    "    return nonce, ciphertext, tag\n",
    "\n",
    "def decrypt(nonce, ciphertext, tag):\n",
    "    cipher = DES.new(key, DES.MODE_EAX, nonce=nonce)\n",
    "    plaintext = cipher.decrypt(ciphertext)\n",
    "\n",
    "    try:\n",
    "        cipher.verify(tag)\n",
    "        return plaintext.decode('ascii')\n",
    "    except ValueError:\n",
    "        return False\n",
    "\n",
    "msg = input('Enter a message:')\n",
    "nonce, ciphertext, tag = encrypt(msg)\n",
    "plaintext = decrypt(nonce, ciphertext, tag)\n",
    "\n",
    "print(f'Cipher text: {ciphertext}')\n",
    "\n",
    "if not plaintext:\n",
    "    print('Message is corrupted!')\n",
    "else:\n",
    "    print(f'Plain text: {plaintext}')"
   ]
  }
 ],
 "metadata": {
  "language_info": {
   "name": "python"
  }
 },
 "nbformat": 4,
 "nbformat_minor": 2
}
