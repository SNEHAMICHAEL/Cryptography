{
  "nbformat": 4,
  "nbformat_minor": 0,
  "metadata": {
    "colab": {
      "provenance": []
    },
    "kernelspec": {
      "name": "python3",
      "display_name": "Python 3"
    },
    "language_info": {
      "name": "python"
    }
  },
  "cells": [
    {
      "cell_type": "code",
      "execution_count": 12,
      "metadata": {
        "colab": {
          "base_uri": "https://localhost:8080/"
        },
        "id": "U49UBLRKY2st",
        "outputId": "9926b737-ea0c-4715-f6b2-ae7977b44beb"
      },
      "outputs": [
        {
          "output_type": "stream",
          "name": "stdout",
          "text": [
            "Enter a prime number: 23\n",
            "Primitive roots modulo 23 : [5, 7, 10, 11, 14, 15, 17, 19, 20, 21]\n",
            "Choose a primitive root: 7\n",
            "Enter private key for User 1 (a): 3\n",
            "Enter private key for User 2 (b): 6\n",
            "A: 21\n",
            "B: 4\n",
            "Secret Key for User 1 (K1): 18\n",
            "Secret Key for User 2 (K2): 18\n",
            "Keys have been exchanged successfully.\n"
          ]
        }
      ],
      "source": [
        "#  algorithm for Diffie-Hellman key exchange algorithm\n",
        "\n",
        "def is_prime(num):\n",
        "    if num < 2:\n",
        "        return False\n",
        "    for i in range(2, int(num**0.5) + 1):\n",
        "        if num % i == 0:\n",
        "            return False\n",
        "    return True\n",
        "\n",
        "def find_primitive_root(p):\n",
        "    primitive_roots = []\n",
        "    for g in range(2, p):\n",
        "        residues = set(pow(g, i, p) for i in range(1, p))\n",
        "        if len(residues) == p - 1:\n",
        "            primitive_roots.append(g)\n",
        "    return primitive_roots\n",
        "\n",
        "def diffie_hellman(p, g, a, b):\n",
        "    A = (g ** a) % p\n",
        "    B = (g ** b) % p\n",
        "\n",
        "    K1 = (B ** a) % p\n",
        "    K2 = (A ** b) % p\n",
        "\n",
        "    return A, B, K1, K2\n",
        "\n",
        "while True:\n",
        "    p = int(input(\"Enter a prime number: \"))\n",
        "    if is_prime(p):\n",
        "        break\n",
        "    print(\"Invalid input! Please enter a prime number.\")\n",
        "\n",
        "primitive_roots = find_primitive_root(p)\n",
        "if len(primitive_roots) == 0:\n",
        "    print(\"No primitive roots found for the given prime.\")\n",
        "    quit()\n",
        "\n",
        "print(\"Primitive roots modulo\", p, \":\", primitive_roots)\n",
        "g = int(input(\"Choose a primitive root: \"))\n",
        "if g not in primitive_roots:\n",
        "    print(\"Invalid input! Please choose a primitive root.\")\n",
        "    quit()\n",
        "\n",
        "a = int(input(\"Enter private key for User 1 (a): \"))\n",
        "b = int(input(\"Enter private key for User 2 (b): \"))\n",
        "\n",
        "A, B, K1, K2 = diffie_hellman(p, g, a, b)\n",
        "\n",
        "print(\"A:\", A)\n",
        "print(\"B:\", B)\n",
        "\n",
        "print(\"Secret Key for User 1 (K1):\", K1)\n",
        "print(\"Secret Key for User 2 (K2):\", K2)\n",
        "\n",
        "if K1 == K2:\n",
        "    print(\"Keys have been exchanged successfully.\")\n",
        "else:\n",
        "    print(\"Keys have not been exchanged successfully.\")\n"
      ]
    },
    {
      "cell_type": "markdown",
      "source": [
        "1) Alice and Bob publically agree on a prime modulus number p. and a generator number g. where both p and g are prime numbers and p>g.\n",
        "\n",
        "2) Verify that p and g are co-primes, i.e. GCD (p, g) = 1.\n",
        "\n",
        "3) Alice chooses a secret number a, then calculate A = gª mod p.\n",
        "\n",
        "4) Bob chooses a secret number b, then calculate B = g mod p.\n",
        "\n",
        "5) Alice sends Bob the value of A. and Bob sends Alice the value of B.\n",
        "\n",
        "6) Alice computes x1 = B^a mod p.\n",
        "\n",
        "7) Bob computes x2 = A^b mod p.\n",
        "\n",
        "8) Verify that x1 = x2, where x1 and x2 are the calculated shared secret key."
      ],
      "metadata": {
        "id": "EwTBM8KPjvsG"
      }
    }
  ]
}