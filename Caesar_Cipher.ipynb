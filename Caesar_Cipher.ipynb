{
 "cells": [
  {
   "cell_type": "code",
   "execution_count": null,
   "metadata": {},
   "outputs": [],
   "source": [
    "# Python program to perform encryption and decryption using the Caesar cipher.\n",
    "\n",
    "def encryption(pt, k):\n",
    "    encrypted_msg = ''\n",
    "    for char in pt:\n",
    "        if char.isalpha():\n",
    "            if char.islower():\n",
    "                encrypted_msg += chr((ord(char) - 97 + k) % 26 + 97)\n",
    "            else:\n",
    "                encrypted_msg += chr((ord(char) - 65 + k) % 26 + 65)\n",
    "        else:\n",
    "            encrypted_msg =encrypted_msg + char\n",
    "    return encrypted_msg\n",
    "\n",
    "def decryption(ct, k):\n",
    "    decrypted_msg = ''\n",
    "    for char in ct:\n",
    "        if char.isalpha():\n",
    "            if char.islower():\n",
    "                decrypted_msg += chr((ord(char) - 97 - k) % 26 + 97)\n",
    "            else:\n",
    "                decrypted_msg += chr((ord(char) - 65 - k) % 26 + 65)\n",
    "        else:\n",
    "            decrypted_msg =decrypted_msg + char\n",
    "    return decrypted_msg\n",
    "\n",
    "plain_text = \"APPLE\"\n",
    "print(\"plain text is\",plain_text)\n",
    "k = 3\n",
    "c = encryption(plain_text, k)\n",
    "print(\"Encrypted text is\",c)\n",
    "d = decryption(c, k)\n",
    "print(\"Decrypted text is\",d)\n"
   ]
  }
 ],
 "metadata": {
  "language_info": {
   "name": "python"
  }
 },
 "nbformat": 4,
 "nbformat_minor": 2
}
