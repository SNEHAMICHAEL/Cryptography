{
  "cells": [
    {
      "cell_type": "code",
      "execution_count": 10,
      "metadata": {
        "colab": {
          "base_uri": "https://localhost:8080/"
        },
        "id": "2GVaUjzp7xB_",
        "outputId": "d1969af7-4124-4eff-b305-4011f4cdf0ff"
      },
      "outputs": [
        {
          "name": "stdout",
          "output_type": "stream",
          "text": [
            "the key value is 6\n",
            "SNEHA is changed to YUMQK using substitution cipher\n"
          ]
        }
      ],
      "source": [
        "#Implement a substitution cipher in Python where your first name is shifted by a value determined from the single-digit sum of your roll number.\n",
        "\n",
        "def single_no(rno):\n",
        "    sum = 0\n",
        "    while rno > 0:\n",
        "        sum += rno % 10\n",
        "        rno //= 10\n",
        "    return sum\n",
        "\n",
        "def substitution(name, k):\n",
        "    first_name = \"\"\n",
        "    for letter in name:\n",
        "        ascii_value = ord(letter)\n",
        "        shifted_ascii = ascii_value + k\n",
        "        shifted_ascii = (shifted_ascii - 65) % 26 + 65\n",
        "        first_name = first_name +chr(shifted_ascii)\n",
        "        k=k+ 1\n",
        "    return first_name\n",
        "\n",
        "\n",
        "name = \"SNEHA\"\n",
        "roll_number = 42\n",
        "k = single_no(roll_number)\n",
        "print(\"the key value is\",k)\n",
        "encrypted_name = substitution(name, k)\n",
        "print(\"SNEHA is changed to\",encrypted_name,\"using substitution cipher\")"
      ]
    }
  ],
  "metadata": {
    "colab": {
      "provenance": []
    },
    "kernelspec": {
      "display_name": "Python 3",
      "name": "python3"
    },
    "language_info": {
      "name": "python"
    }
  },
  "nbformat": 4,
  "nbformat_minor": 0
}
