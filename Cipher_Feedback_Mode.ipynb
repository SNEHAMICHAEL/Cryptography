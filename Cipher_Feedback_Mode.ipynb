{
 "cells": [
  {
   "cell_type": "code",
   "execution_count": 1,
   "metadata": {},
   "outputs": [
    {
     "name": "stdout",
     "output_type": "stream",
     "text": [
      "Blocks: 1011, 0111, 0110\n",
      "Ciphertext: 0111,1001,0001\n",
      "Plaintext: 1011, 0111, 0110\n"
     ]
    }
   ],
   "source": [
    "# Cipher Feedback Mode\n",
    "\n",
    "def blocks(binary, block_size):\n",
    "    return [binary[i:i + block_size] for i in range(0, len(binary), block_size)]\n",
    "\n",
    "def apply_permutation_key(encrypted_block, key):\n",
    "    return ''.join(encrypted_block[i - 1] for i in key)\n",
    "\n",
    "def encryption(blocks, iv, key):\n",
    "    encrypted_blocks = []\n",
    "    for block in blocks:\n",
    "        xor_result = ''.join(str(int(block[i]) ^ int(iv[i])) for i in range(len(block)))\n",
    "        cipher = apply_permutation_key(xor_result, key)\n",
    "        iv = iv[4:] + cipher[:4]\n",
    "        encrypted_blocks.append(cipher)\n",
    "    return \",\".join(encrypted_blocks)\n",
    "\n",
    "def decryption(encrypted_blocks, iv, key):\n",
    "    decrypted_blocks = []\n",
    "    for block in encrypted_blocks:\n",
    "        permuted_block = apply_permutation_key(block, key)\n",
    "        plaintext_block = ''\n",
    "        for i in range(len(permuted_block)):\n",
    "            plaintext_block += str(int(permuted_block[i]) ^ int(iv[i]))\n",
    "        decrypted_blocks.append(plaintext_block)\n",
    "        iv = iv[4:] + block[:4]\n",
    "    return decrypted_blocks\n",
    "\n",
    "plaintext = \"101101110110\"\n",
    "block_size = 4\n",
    "blocks_list = blocks(plaintext, block_size)\n",
    "print(\"Blocks:\", \", \".join(blocks_list))\n",
    "\n",
    "\n",
    "iv = \"011011\"\n",
    "key = (3, 4, 2, 1)\n",
    "ciphertext = encryption(blocks_list, iv, key)\n",
    "print(\"Ciphertext:\", ciphertext)\n",
    "\n",
    "iv = \"011011\"\n",
    "key_inverse = (4, 3, 1, 2)\n",
    "plaintext_blocks = decryption(ciphertext.split(','), iv, key_inverse)\n",
    "print(\"Plaintext:\", \", \".join(plaintext_blocks))\n"
   ]
  }
 ],
 "metadata": {
  "kernelspec": {
   "display_name": "base",
   "language": "python",
   "name": "python3"
  },
  "language_info": {
   "codemirror_mode": {
    "name": "ipython",
    "version": 3
   },
   "file_extension": ".py",
   "mimetype": "text/x-python",
   "name": "python",
   "nbconvert_exporter": "python",
   "pygments_lexer": "ipython3",
   "version": "3.11.7"
  }
 },
 "nbformat": 4,
 "nbformat_minor": 2
}
