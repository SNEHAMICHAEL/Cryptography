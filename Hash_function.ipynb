{
  "cells": [
    {
      "cell_type": "code",
      "execution_count": 12,
      "metadata": {
        "colab": {
          "base_uri": "https://localhost:8080/"
        },
        "id": "Ym_Ccv4dNx2A",
        "outputId": "1a8de7ad-ea07-4ea1-f757-0a5f1022af54"
      },
      "outputs": [
        {
          "name": "stdout",
          "output_type": "stream",
          "text": [
            "Enter a word: CRYPTOGRAPHY\n",
            "Original binary: 010000110101001001011001010100000101010001001111010001110101001001000001010100000100100001011001\n",
            "Blocks: 0100, 0011, 0101, 0010, 0101, 1001, 0101, 0000, 0101, 0100, 0100, 1111, 0100, 0111, 0101, 0010, 0100, 0001, 0101, 0000, 0100, 1000, 0101, 1001\n",
            "Hash value 1: 0111\n",
            "ASCII value of Hash 1: \u0007\n",
            "Decimal blocks: 4, 3, 5, 2, 5, 9, 5, 0, 5, 4, 4, 15, 4, 7, 5, 2, 4, 1, 5, 0, 4, 8, 5, 9\n",
            "Hash value 2: 0011\n",
            "ASCII value of Hash 2: \u0003\n"
          ]
        }
      ],
      "source": [
        "# Python program to generate hash values for given input strings.\n",
        "\n",
        "def toBinary(word):\n",
        "    binary_no = ''.join(format(ord(char), '08b') for char in word)\n",
        "    return binary_no\n",
        "\n",
        "def blocks(binary, block_size):\n",
        "    while len(binary) % block_size != 0:\n",
        "        binary += '10'\n",
        "    return [binary[i:i + block_size] for i in range(0, len(binary), block_size)]\n",
        "\n",
        "def hash(block_list):\n",
        "    m = int(block_list[0], 2)\n",
        "    for block in block_list[1:]:\n",
        "        m ^= int(block, 2)\n",
        "    return format(m, 'b').zfill(len(block_list[0]))\n",
        "\n",
        "def toDecimal(blocks_list):\n",
        "    decimal_blocks = []\n",
        "    for block in blocks_list:\n",
        "        decimal_blocks.append(int(block, 2))\n",
        "    return decimal_blocks\n",
        "\n",
        "def hash_2(block_list):\n",
        "    h_m = sum(int(block, 2) for block in block_list) % 16\n",
        "    return format(h_m, '04b')\n",
        "\n",
        "def binaryToAscii(binary):\n",
        "    decimal_value = int(binary, 2)\n",
        "    if 0 <= decimal_value <= 127:\n",
        "        return chr(decimal_value)\n",
        "    else:\n",
        "        return 'N/A'\n",
        "\n",
        "word = input(\"Enter a word: \")\n",
        "print(\"Original binary:\", toBinary(word))\n",
        "\n",
        "binary_word = toBinary(word)\n",
        "block_size = 4\n",
        "blocks_list = blocks(binary_word, block_size)\n",
        "print(\"Blocks:\", \", \".join(blocks_list))\n",
        "\n",
        "hash_value1 = hash(blocks_list)\n",
        "print(\"Hash value 1:\", hash_value1)\n",
        "print(\"ASCII value of Hash 1:\", binaryToAscii(hash_value1))\n",
        "\n",
        "decimal_blocks = toDecimal(blocks_list)\n",
        "print(\"Decimal blocks:\", \", \".join(map(str, decimal_blocks)))\n",
        "\n",
        "hash_value2 = hash_2(blocks_list)\n",
        "print(\"Hash value 2:\", hash_value2)\n",
        "print(\"ASCII value of Hash 2:\", binaryToAscii(hash_value2))\n"
      ]
    }
  ],
  "metadata": {
    "colab": {
      "provenance": []
    },
    "kernelspec": {
      "display_name": "Python 3",
      "name": "python3"
    },
    "language_info": {
      "name": "python"
    }
  },
  "nbformat": 4,
  "nbformat_minor": 0
}
