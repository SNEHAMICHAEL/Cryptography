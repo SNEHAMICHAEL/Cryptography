{
 "cells": [
  {
   "cell_type": "code",
   "execution_count": 16,
   "id": "6524f1a3-4fb2-41ec-a539-133d912775a8",
   "metadata": {},
   "outputs": [
    {
     "name": "stdout",
     "output_type": "stream",
     "text": [
      "Enter a word:  AT\n"
     ]
    },
    {
     "name": "stdout",
     "output_type": "stream",
     "text": [
      "Original binary: 0100000101010100\n",
      "Encrypted text: 1100100000000101\n",
      "Decrypted text: 0100000101010100\n"
     ]
    }
   ],
   "source": [
    "# Implement a permutation Cipher in Python to encrypt and decrypt messages\n",
    "\n",
    "def toBinary(word):\n",
    "    binary_no = ''.join(format(ord(char), '08b') for char in word)\n",
    "    return binary_no\n",
    "\n",
    "def encryption(binary_no, permutation_table):\n",
    "    permuted_no = []\n",
    "    for i in permutation_table:\n",
    "        for j in i:\n",
    "            permuted_no.append(binary_no[j - 1])  \n",
    "    encrypted_text = ''.join(permuted_no)\n",
    "    return encrypted_text\n",
    "\n",
    "def decryption(encrypted_text, p_table):\n",
    "    p_number = []\n",
    "    for i in p_table:\n",
    "        for j in i:\n",
    "            p_number.append(encrypted_text[j - 1])\n",
    "    decrypted_text = ''.join(p_number)\n",
    "    return decrypted_text\n",
    "\n",
    "P = [[10, 2, 7, 4],\n",
    "    [14, 5, 9, 11],\n",
    "    [0, 15, 13, 6],\n",
    "    [1, 8, 3, 12]]\n",
    "\n",
    "P2 = [[13, 2, 15, 4],\n",
    "     [6, 12, 3, 14],\n",
    "     [7, 1, 8, 16],\n",
    "     [11, 5, 10, 9]]\n",
    "\n",
    "word = input(\"Enter a word: \")\n",
    "print(\"Original binary:\", toBinary(word))\n",
    "binary_word = toBinary(word)\n",
    "\n",
    "encrypted_text = encryption(binary_word, P)\n",
    "print(\"Encrypted text:\", encrypted_text)\n",
    "\n",
    "decrypted_result = decryption(encrypted_text, P2)\n",
    "print(\"Decrypted text:\", decrypted_result)"
   ]
  }
 ],
 "metadata": {
  "kernelspec": {
   "display_name": "Python 3 (ipykernel)",
   "language": "python",
   "name": "python3"
  },
  "language_info": {
   "codemirror_mode": {
    "name": "ipython",
    "version": 3
   },
   "file_extension": ".py",
   "mimetype": "text/x-python",
   "name": "python",
   "nbconvert_exporter": "python",
   "pygments_lexer": "ipython3",
   "version": "3.11.7"
  }
 },
 "nbformat": 4,
 "nbformat_minor": 5
}
