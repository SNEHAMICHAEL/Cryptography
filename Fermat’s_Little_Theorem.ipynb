{
 "cells": [
  {
   "cell_type": "code",
   "execution_count": null,
   "metadata": {},
   "outputs": [],
   "source": [
    "# Python function to implement Fermat’s Little Theorem to check the primality of an integer\n",
    "\n",
    "def fermat(n, a):\n",
    "\n",
    "  if n <= 1:\n",
    "    return False\n",
    "  if n == 2:\n",
    "    return True\n",
    "  if pow(a, n - 1, n) != 1:\n",
    "    return False\n",
    "  return True\n",
    "\n",
    "\n",
    "num = 15\n",
    "for a in range(2, num):\n",
    "  if not fermat(num, a):\n",
    "    print(num,\"is not prime\")\n",
    "    break\n",
    "else:\n",
    "  print(num,\"is likely prime\")"
   ]
  }
 ],
 "metadata": {
  "language_info": {
   "name": "python"
  }
 },
 "nbformat": 4,
 "nbformat_minor": 2
}
