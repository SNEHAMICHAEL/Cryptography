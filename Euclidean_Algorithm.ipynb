{
  "nbformat": 4,
  "nbformat_minor": 0,
  "metadata": {
    "colab": {
      "provenance": []
    },
    "kernelspec": {
      "name": "python3",
      "display_name": "Python 3"
    },
    "language_info": {
      "name": "python"
    }
  },
  "cells": [
    {
      "cell_type": "code",
      "execution_count": 1,
      "metadata": {
        "colab": {
          "base_uri": "https://localhost:8080/"
        },
        "id": "mAxZbR8YP4rz",
        "outputId": "ca969f4b-7032-4433-ad3f-9004ba60cd36"
      },
      "outputs": [
        {
          "output_type": "stream",
          "name": "stdout",
          "text": [
            "Enter a number1: 20\n",
            "Enter a number2: 40\n",
            "20\n"
          ]
        }
      ],
      "source": [
        "# Euclidean Algorithm in Python to find the greatest common divisor (gcd) of two given integers\n",
        "\n",
        "def gcd_of_numbers(a, b):\n",
        "    if a == 0:\n",
        "        return b\n",
        "    if b == 0:\n",
        "        return a\n",
        "    if a > b:\n",
        "        return gcd_of_numbers(a - b, b)\n",
        "    return gcd_of_numbers(a, b - a)\n",
        "\n",
        "a = int(input(\"Enter a number1: \"))\n",
        "b = int(input(\"Enter a number2: \"))\n",
        "print(gcd_of_numbers(a, b))"
      ]
    }
  ]
}