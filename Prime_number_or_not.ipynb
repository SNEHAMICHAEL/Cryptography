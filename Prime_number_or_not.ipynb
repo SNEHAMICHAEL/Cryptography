{
  "nbformat": 4,
  "nbformat_minor": 0,
  "metadata": {
    "colab": {
      "provenance": []
    },
    "kernelspec": {
      "name": "python3",
      "display_name": "Python 3"
    },
    "language_info": {
      "name": "python"
    }
  },
  "cells": [
    {
      "cell_type": "code",
      "execution_count": 2,
      "metadata": {
        "colab": {
          "base_uri": "https://localhost:8080/"
        },
        "id": "mAxZbR8YP4rz",
        "outputId": "cf991a21-ffef-4f5b-afb0-66e1f7b39ba7"
      },
      "outputs": [
        {
          "output_type": "stream",
          "name": "stdout",
          "text": [
            "Enter a number: 5\n",
            "True\n"
          ]
        }
      ],
      "source": [
        "# Python function to check if a given integer is a prime number or not\n",
        "\n",
        "def prime(n):\n",
        "    if n == 2 or n == 3:\n",
        "        return True\n",
        "    elif n % 2 == 0 or n < 2:\n",
        "        return False\n",
        "    for i in range(3, n):\n",
        "        if n % i == 0:\n",
        "            return False\n",
        "    return True\n",
        "\n",
        "n = int(input(\"Enter a number: \"))\n",
        "print(prime(n))\n"
      ]
    }
  ]
}