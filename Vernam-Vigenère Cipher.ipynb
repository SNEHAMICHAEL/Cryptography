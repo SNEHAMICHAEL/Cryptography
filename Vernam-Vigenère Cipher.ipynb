{
 "cells": [
  {
   "cell_type": "code",
   "execution_count": null,
   "metadata": {},
   "outputs": [],
   "source": [
    "# Implement the Vernam-Vigenère Cipher in Python to encrypt and decrypt messages\n",
    "\n",
    "def encrypt(message, key):\n",
    "    encrypted_message = \"\"\n",
    "    i = 0\n",
    "    for char in message:\n",
    "        if char.islower():\n",
    "            num = ord(char) - 97\n",
    "        else:\n",
    "            num = ord(char) - 65\n",
    "        key_char = key[i]\n",
    "        if key_char.islower():\n",
    "            key_num = ord(key_char) - 97\n",
    "        else:\n",
    "            key_num = ord(key_char) - 65\n",
    "        num = (num + key_num) % 26\n",
    "        if char.islower():\n",
    "            encrypted_message += chr(num + 97)\n",
    "        else:\n",
    "            encrypted_message += chr(num + 65)\n",
    "        i = (i + 1) % len(key)\n",
    "    return encrypted_message\n",
    "\n",
    "\n",
    "def decrypt(encrypted_message, key):\n",
    "    decrypted_message = \"\"\n",
    "    i = 0\n",
    "    for char in encrypted_message:\n",
    "        if char.islower():\n",
    "            num = ord(char) - 97\n",
    "        else:\n",
    "            num = ord(char) - 65\n",
    "        key_char = key[i]\n",
    "        if key_char.islower():\n",
    "            key_num = ord(key_char) - 97\n",
    "        else:\n",
    "            key_num = ord(key_char) - 65\n",
    "        num = (num - key_num) % 26\n",
    "        if char.islower():\n",
    "            decrypted_message += chr(num + 97)\n",
    "        else:\n",
    "            decrypted_message += chr(num + 65)\n",
    "        i = (i + 1) % len(key)\n",
    "    return decrypted_message\n",
    "\n",
    "\n",
    "plain_text = input(\"Enter the plain text: \")\n",
    "key = input(\"Enter the key: \")\n",
    "cipher_text = encrypt(plain_text, key)\n",
    "print(\"Encrypted text:\", cipher_text)\n",
    "decrypted_text = decrypt(cipher_text, key)\n",
    "print(\"Decrypted text:\", decrypted_text)"
   ]
  }
 ],
 "metadata": {
  "kernelspec": {
   "display_name": "base",
   "language": "python",
   "name": "python3"
  },
  "language_info": {
   "name": "python",
   "version": "3.11.7"
  }
 },
 "nbformat": 4,
 "nbformat_minor": 2
}
