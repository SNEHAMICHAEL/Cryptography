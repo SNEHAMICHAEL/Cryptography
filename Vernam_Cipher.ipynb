{
  "cells": [
    {
      "cell_type": "code",
      "execution_count": 7,
      "metadata": {
        "colab": {
          "base_uri": "https://localhost:8080/"
        },
        "id": "eo3hNFYXYEz5",
        "outputId": "175e3420-4eab-4fd2-8464-a5ff6b085919"
      },
      "outputs": [
        {
          "name": "stdout",
          "output_type": "stream",
          "text": [
            "Plaintext: 10110101\n",
            "Random key: 10101010\n",
            "Encrypted: 00011111\n",
            "Decrypted: 10110101\n"
          ]
        }
      ],
      "source": [
        "# Python function to implement encryption and decryption algorithms of vernam cipher\n",
        "\n",
        "def generate_random_key(plaintext, initial_key):\n",
        "    b1, b2, b3, b4 = [1, 0, 1, 1]\n",
        "    key = \"\"\n",
        "    for n in range(len(plaintext)):\n",
        "        if n % 4 == 0:\n",
        "            r = str(b2 ^ b1)\n",
        "        elif n % 4 == 1:\n",
        "            r = str(b2 ^ b2)\n",
        "        elif n % 4 == 2:\n",
        "            r = str(b2 ^ b3)\n",
        "        else:\n",
        "            r = str(b1 ^ b3)\n",
        "        key += r\n",
        "    return key\n",
        "\n",
        "def encrypt(plaintext, initial_key):\n",
        "    key = generate_random_key(plaintext, initial_key)\n",
        "    encrypted = \"\"\n",
        "    for i in range(len(plaintext)):\n",
        "        encrypted += str(int(plaintext[i]) ^ int(key[i]))\n",
        "    return encrypted\n",
        "\n",
        "def decrypt(ciphertext, initial_key):\n",
        "    key = generate_random_key(ciphertext, initial_key)\n",
        "    decrypted = \"\"\n",
        "    for i in range(len(ciphertext)):\n",
        "        decrypted += str(int(ciphertext[i]) ^ int(key[i]))\n",
        "    return decrypted\n",
        "\n",
        "plaintext = \"10110101\"\n",
        "print(\"Plaintext:\",plaintext)\n",
        "initial_key = \"1011\"\n",
        "\n",
        "random_key=generate_random_key(plaintext, initial_key)\n",
        "print(\"Random key:\",random_key)\n",
        "\n",
        "encrypted = encrypt(plaintext, initial_key)\n",
        "print(\"Encrypted:\", encrypted)\n",
        "\n",
        "decrypted = decrypt(encrypted, initial_key)\n",
        "print(\"Decrypted:\", decrypted)"
      ]
    }
  ],
  "metadata": {
    "colab": {
      "provenance": []
    },
    "kernelspec": {
      "display_name": "Python 3",
      "name": "python3"
    },
    "language_info": {
      "name": "python"
    }
  },
  "nbformat": 4,
  "nbformat_minor": 0
}
