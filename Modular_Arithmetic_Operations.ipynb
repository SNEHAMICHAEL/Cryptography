{
  "cells": [
    {
      "cell_type": "code",
      "execution_count": 7,
      "metadata": {
        "colab": {
          "base_uri": "https://localhost:8080/"
        },
        "id": "uZbuzxO0FVFm",
        "outputId": "77b2a62f-82c6-47b2-e572-7dfd79cdda19"
      },
      "outputs": [
        {
          "name": "stdout",
          "output_type": "stream",
          "text": [
            "enter a:5\n",
            "enter b:2\n",
            "Moduler addition: 0\n",
            "Modular subtraction: 3\n",
            "Modular multiplication: 3\n",
            "Modular exponention: 4\n"
          ]
        }
      ],
      "source": [
        "#Write a Python program to perform modular arithmetic operations using multiple functions\n",
        "\n",
        "def modular_addition(a,b):\n",
        "  c=(a+b)%n\n",
        "  return c\n",
        "\n",
        "def modular_subtraction(a,b):\n",
        "  d=(a-b)%n\n",
        "  return d\n",
        "\n",
        "def modular_multiplication(a,b):\n",
        "  e=(a*b)%n\n",
        "  return e\n",
        "\n",
        "def modular_exponentiation(a,b):\n",
        "  f=(a**b)%n\n",
        "  return f\n",
        "\n",
        "n=7\n",
        "a=int(input('enter a:'))\n",
        "b=int(input('enter b:'))\n",
        "print(\"Moduler addition:\",modular_addition(a,b))\n",
        "print(\"Modular subtraction:\", modular_subtraction(a,b))\n",
        "print(\"Modular multiplication:\", modular_multiplication(a,b))\n",
        "print(\"Modular exponentiation:\", modular_exponentiation(a,b))"
      ]
    }
  ],
  "metadata": {
    "colab": {
      "provenance": []
    },
    "kernelspec": {
      "display_name": "Python 3",
      "name": "python3"
    },
    "language_info": {
      "name": "python"
    }
  },
  "nbformat": 4,
  "nbformat_minor": 0
}
