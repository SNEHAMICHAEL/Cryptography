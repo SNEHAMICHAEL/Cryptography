{
  "nbformat": 4,
  "nbformat_minor": 0,
  "metadata": {
    "colab": {
      "provenance": []
    },
    "kernelspec": {
      "name": "python3",
      "display_name": "Python 3"
    },
    "language_info": {
      "name": "python"
    }
  },
  "cells": [
    {
      "cell_type": "code",
      "execution_count": 5,
      "metadata": {
        "colab": {
          "base_uri": "https://localhost:8080/"
        },
        "id": "mAxZbR8YP4rz",
        "outputId": "479488f2-c50a-437f-eb49-e64e1ed4e552"
      },
      "outputs": [
        {
          "output_type": "stream",
          "name": "stdout",
          "text": [
            "Enter a number: 17\n",
            "number of prime factors: 1\n",
            "The prime factors are: [17]\n"
          ]
        }
      ],
      "source": [
        "# Python function that counts the number of prime factors of a given integer\n",
        "\n",
        "def prime_factors(n):\n",
        "    count = 0\n",
        "    factors = []\n",
        "    for i in range(2, n + 1):\n",
        "        while n % i == 0:\n",
        "            count += 1\n",
        "            factors.append(i)\n",
        "            n //= i\n",
        "    return count,factors\n",
        "\n",
        "n = int(input(\"Enter a number: \"))\n",
        "count,factors=prime_factors(n)\n",
        "print(\"number of prime factors:\",count)\n",
        "print(\"The prime factors are:\",factors)"
      ]
    }
  ]
}