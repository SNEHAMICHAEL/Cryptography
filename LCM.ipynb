{
  "nbformat": 4,
  "nbformat_minor": 0,
  "metadata": {
    "colab": {
      "provenance": []
    },
    "kernelspec": {
      "name": "python3",
      "display_name": "Python 3"
    },
    "language_info": {
      "name": "python"
    }
  },
  "cells": [
    {
      "cell_type": "code",
      "execution_count": 6,
      "metadata": {
        "colab": {
          "base_uri": "https://localhost:8080/"
        },
        "id": "mAxZbR8YP4rz",
        "outputId": "8a37d51d-ef2d-4818-ada6-e219e0b7f9d7"
      },
      "outputs": [
        {
          "output_type": "stream",
          "name": "stdout",
          "text": [
            "Enter a number1: 48\n",
            "Enter a number2: 72\n",
            "144\n"
          ]
        }
      ],
      "source": [
        "# Python function to find the least common multiple (LCM) of two given integers\n",
        "\n",
        "def lcm(a, b):\n",
        "    greater = max(a, b)\n",
        "    while True:\n",
        "        if greater % a == 0 and greater % b == 0:\n",
        "            lcm = greater\n",
        "            break\n",
        "        greater += 1\n",
        "    return lcm\n",
        "\n",
        "a = int(input(\"Enter a number1: \"))\n",
        "b = int(input(\"Enter a number2: \"))\n",
        "print(lcm(a, b))"
      ]
    }
  ]
}